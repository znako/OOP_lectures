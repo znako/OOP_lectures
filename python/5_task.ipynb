{
 "cells": [
  {
   "cell_type": "markdown",
   "id": "85755de8",
   "metadata": {},
   "source": [
    "# Самостоятельное задание #5\n",
    "\n",
    "\n",
    "### Задание 1\n",
    "\n",
    "Допишите функцию, которая принимает список, выбирает из него все элементы с четным индексом и возвращает их в виде списка."
   ]
  },
  {
   "cell_type": "code",
   "execution_count": 2,
   "id": "6ef6d9b3",
   "metadata": {},
   "outputs": [
    {
     "name": "stdin",
     "output_type": "stream",
     "text": [
      " 5\n",
      " 1\n",
      " 2\n",
      " 3\n",
      " 4\n",
      " 5\n"
     ]
    },
    {
     "name": "stdout",
     "output_type": "stream",
     "text": [
      "1\n",
      "3\n",
      "5\n"
     ]
    }
   ],
   "source": [
    "# Начните писать код тут\n",
    "def ma(fi_list):\n",
    "    se_list = []\n",
    "    for i in range(0, len(fi_list), 2):\n",
    "        se_list.append(fi_list[i])\n",
    "    for i in se_list:\n",
    "        print(i)\n",
    "inp = int(input())\n",
    "fi_list = []\n",
    "for i in range(inp):\n",
    "    fi_list.append(input())\n",
    "ma(fi_list)"
   ]
  },
  {
   "cell_type": "markdown",
   "id": "443974c9",
   "metadata": {},
   "source": [
    "### Задание 2\n",
    "\n",
    "Допишите функцию, которая принимает список, выбирает из него все элементы, которые больше предыдущего и возвращает их в виде списка.\n"
   ]
  },
  {
   "cell_type": "code",
   "execution_count": 3,
   "id": "3a8cf925",
   "metadata": {},
   "outputs": [
    {
     "name": "stdin",
     "output_type": "stream",
     "text": [
      " 4\n",
      " 1\n",
      " 3\n",
      " 2\n",
      " 5\n"
     ]
    },
    {
     "name": "stdout",
     "output_type": "stream",
     "text": [
      "3\n",
      "5\n"
     ]
    }
   ],
   "source": [
    "# Начните писать код тут\n",
    "def ma(fi_list):\n",
    "    se_list = []\n",
    "    for i in range(1, len(fi_list)):\n",
    "        if fi_list[i] > fi_list[i-1]:\n",
    "            se_list.append(fi_list[i])\n",
    "    for i in se_list:\n",
    "        print(i)\n",
    "inp = int(input())\n",
    "fi_list = []\n",
    "for i in range(inp):\n",
    "    fi_list.append(int(input()))\n",
    "\n",
    "ma(fi_list)"
   ]
  },
  {
   "cell_type": "markdown",
   "id": "34524ede",
   "metadata": {},
   "source": [
    "### Задание 3\n",
    "\n",
    "Допишите функцию, которая принимает список, меняет местами наибольший и наименьший элементы и возвращает этот список."
   ]
  },
  {
   "cell_type": "code",
   "execution_count": 3,
   "id": "34d2beae",
   "metadata": {},
   "outputs": [],
   "source": [
    "# Начните писать код тут\n",
    "def ma(fi_list):\n",
    "    x = 0\n",
    "    fi_help = fi_list\n",
    "    fi_list.sort()\n",
    "    x = fi_list[0]\n",
    "    fi_help\n",
    "inp = int(input())\n",
    "fi_list = []\n",
    "for i in range(inp):\n",
    "    fi_list.append(int(input()))\n",
    "\n",
    "ma(fi_list)"
   ]
  }
 ],
 "metadata": {
  "kernelspec": {
   "display_name": "Python 3 (ipykernel)",
   "language": "python",
   "name": "python3"
  },
  "language_info": {
   "codemirror_mode": {
    "name": "ipython",
    "version": 3
   },
   "file_extension": ".py",
   "mimetype": "text/x-python",
   "name": "python",
   "nbconvert_exporter": "python",
   "pygments_lexer": "ipython3",
   "version": "3.7.12"
  }
 },
 "nbformat": 4,
 "nbformat_minor": 5
}
