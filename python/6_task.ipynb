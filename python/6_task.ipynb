{
 "cells": [
  {
   "cell_type": "markdown",
   "id": "49944faf",
   "metadata": {},
   "source": [
    "# Самостоятельное задание #6\n",
    "\n",
    "\n",
    "### Задание 1\n",
    "\n",
    "\n",
    "Допишите функцию, которая принимает несколько параметров. Первый параметр - словарь, второй параметр - один из ключей данного словаря. Функция должна выводить значение этого ключа."
   ]
  },
  {
   "cell_type": "code",
   "execution_count": null,
   "id": "3f41a526",
   "metadata": {},
   "outputs": [],
   "source": [
    "# Начните писать код тут\n",
    "def output(di, ke):\n",
    "    print(di[ke])\n",
    "cou = int(input())\n",
    "d = {}\n",
    "for i in range(cou):\n",
    "    k = input()\n",
    "    data = input()\n",
    "    d.update({k:data})\n",
    "ke = input()\n",
    "output(d, ke)"
   ]
  },
  {
   "cell_type": "code",
   "execution_count": null,
   "id": "6903cbf6-9b73-45f1-be21-d8bbc4fb80a5",
   "metadata": {},
   "outputs": [],
   "source": []
  }
 ],
 "metadata": {
  "kernelspec": {
   "display_name": "Python 3 (ipykernel)",
   "language": "python",
   "name": "python3"
  },
  "language_info": {
   "codemirror_mode": {
    "name": "ipython",
    "version": 3
   },
   "file_extension": ".py",
   "mimetype": "text/x-python",
   "name": "python",
   "nbconvert_exporter": "python",
   "pygments_lexer": "ipython3",
   "version": "3.7.12"
  }
 },
 "nbformat": 4,
 "nbformat_minor": 5
}
